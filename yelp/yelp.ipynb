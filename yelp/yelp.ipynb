{
 "cells": [
  {
   "cell_type": "code",
   "execution_count": 1,
   "metadata": {},
   "outputs": [],
   "source": [
    "%load_ext autoreload\n",
    "%autoreload 2"
   ]
  },
  {
   "cell_type": "code",
   "execution_count": 2,
   "metadata": {},
   "outputs": [],
   "source": [
    "import json\n",
    "from pyspark import SparkContext, SparkConf\n",
    "from pyspark.sql import SQLContext, DataFrameWriter, DataFrameReader\n",
    "from pyspark.sql.types import *\n",
    "from pyspark.sql.functions import *"
   ]
  },
  {
   "cell_type": "code",
   "execution_count": 3,
   "metadata": {},
   "outputs": [],
   "source": [
    "from sqlalchemy import Table, Column, Integer, String, MetaData, create_engine\n",
    "from geoalchemy2 import Geometry"
   ]
  },
  {
   "cell_type": "code",
   "execution_count": 4,
   "metadata": {},
   "outputs": [],
   "source": [
    "def get_config():\n",
    "    with open(\"../config.json\", \"r\") as f:\n",
    "        jsonstr = f.read()\n",
    "        conf = json.loads(jsonstr)\n",
    "        return conf"
   ]
  },
  {
   "cell_type": "code",
   "execution_count": 5,
   "metadata": {},
   "outputs": [],
   "source": [
    "def get_spark_conf(config):\n",
    "    '''set config'''\n",
    "    conf = SparkConf()\n",
    "    conf.setAppName('yelp')\n",
    "    conf.set('spark.master', config[\"spark\"][\"master_url\"])\n",
    "    return conf"
   ]
  },
  {
   "cell_type": "code",
   "execution_count": 6,
   "metadata": {},
   "outputs": [],
   "source": [
    "def get_pg_props(config):\n",
    "    '''set psql properties'''\n",
    "    props = {\n",
    "        \"user\": config[\"postgres\"][\"user\"],\n",
    "        \"password\": config[\"postgres\"][\"password\"],\n",
    "        \"driver\": \"org.postgresql.Driver\",\n",
    "    }\n",
    "    return props"
   ]
  },
  {
   "cell_type": "code",
   "execution_count": 7,
   "metadata": {},
   "outputs": [],
   "source": [
    "env = \"development\""
   ]
  },
  {
   "cell_type": "code",
   "execution_count": 8,
   "metadata": {},
   "outputs": [],
   "source": [
    "def getdf(sql_context, config):\n",
    "    '''filter yelp dataset'''\n",
    "    df = sql_context.read.json(config[\"yelp\"][\"s3\"])\n",
    "    return df"
   ]
  },
  {
   "cell_type": "code",
   "execution_count": 9,
   "metadata": {},
   "outputs": [],
   "source": [
    "config = get_config()\n",
    "spark_conf = get_spark_conf(config)\n",
    "sc = SparkContext(conf=spark_conf)"
   ]
  },
  {
   "cell_type": "code",
   "execution_count": 10,
   "metadata": {},
   "outputs": [],
   "source": [
    "sql_context = SQLContext(sc)"
   ]
  },
  {
   "cell_type": "code",
   "execution_count": 11,
   "metadata": {},
   "outputs": [],
   "source": [
    "raw_df = getdf(sql_context, config)"
   ]
  },
  {
   "cell_type": "code",
   "execution_count": 12,
   "metadata": {},
   "outputs": [],
   "source": [
    "def get_category_set(raw_df):\n",
    "    def split_categories(row):\n",
    "        if row.categories != None:\n",
    "            return row.categories.split(\", \")\n",
    "        return []\n",
    "    \n",
    "    raw_categories = raw_df.rdd.map(split_categories).collect()\n",
    "    category_set = set()\n",
    "    for row in raw_categories:\n",
    "        category_set.update(row)\n",
    "    return category_set"
   ]
  },
  {
   "cell_type": "code",
   "execution_count": 13,
   "metadata": {},
   "outputs": [
    {
     "name": "stdout",
     "output_type": "stream",
     "text": [
      "1305\n"
     ]
    }
   ],
   "source": [
    "all_categories = list(get_category_set(raw_df))\n",
    "print(len(all_categories))"
   ]
  },
  {
   "cell_type": "code",
   "execution_count": 14,
   "metadata": {},
   "outputs": [],
   "source": [
    "def write_to_pg(df, table, config):\n",
    "    '''write to psql'''\n",
    "    url = config[\"postgres\"][env][\"jdbc\"]\n",
    "    props = get_pg_props(config)\n",
    "    df.write.jdbc(url=url, table=table, mode='overwrite', properties=props)"
   ]
  },
  {
   "cell_type": "code",
   "execution_count": null,
   "metadata": {},
   "outputs": [],
   "source": [
    "def write_category_df_to_pg(all_categories, config):\n",
    "    schema = StructType([\n",
    "        StructField(\"id\", IntegerType(), False),\n",
    "        StructField(\"name\", StringType(), False)\n",
    "    ])\n",
    "    df = sql_context.createDataFrame(zip(range(len(all_categories)), all_categories), schema)\n",
    "    write_to_pg(df, \"categories\", config)\n",
    "    return df"
   ]
  },
  {
   "cell_type": "code",
   "execution_count": null,
   "metadata": {},
   "outputs": [],
   "source": [
    "category_df = write_category_df_to_pg(all_categories, config)"
   ]
  },
  {
   "cell_type": "code",
   "execution_count": 15,
   "metadata": {},
   "outputs": [],
   "source": [
    "def write_yelp_df_to_pg(raw_df, config):\n",
    "    selected_columns = [\"id\", \"name\", \"latitude\", \"longitude\", \"stars\", \"review_count\", \"address\", \"city\", \"state\"]\n",
    "    df = raw_df.withColumn(\"id\", monotonically_increasing_id())\n",
    "    write_to_pg(df[selected_columns], \"yelp\", config)\n",
    "    return df[selected_columns + [\"categories\"]]"
   ]
  },
  {
   "cell_type": "code",
   "execution_count": null,
   "metadata": {},
   "outputs": [],
   "source": [
    "def write_yelp2category_to_pg(yelp_df, category_df, config):\n",
    "    def categories_to_ids(row):\n",
    "        categories = []\n",
    "        if row[\"categories\"] != None:\n",
    "            categories = row[\"categories\"].split(\", \")\n",
    "        return zip([row.id] * len(categories), [category_dict[cat] for cat in categories])    \n",
    "    \n",
    "    yelp_df = write_yelp_df_to_pg(raw_df, config)\n",
    "    category_dict = {}\n",
    "    for row in category_df.collect():\n",
    "        category_dict[row.name] = row.id\n",
    "        \n",
    "    yelp2cat_rdd = yelp_df.rdd.flatMap(categories_to_ids)\n",
    "    schema = StructType([\n",
    "        StructField(\"yelp_id\", LongType(), False),\n",
    "        StructField(\"category_id\", IntegerType(), False)\n",
    "    ])\n",
    "    yelp2cat_df = sql_context.createDataFrame(yelp2cat_rdd, schema)\n",
    "    \n",
    "    write_to_pg(yelp2cat_df, \"yelp2category\", config)\n",
    "    return yelp2cat_df"
   ]
  },
  {
   "cell_type": "code",
   "execution_count": 16,
   "metadata": {},
   "outputs": [],
   "source": [
    "yelp_df = write_yelp_df_to_pg(raw_df, config)"
   ]
  },
  {
   "cell_type": "code",
   "execution_count": 17,
   "metadata": {},
   "outputs": [
    {
     "ename": "NameError",
     "evalue": "name 'write_yelp2category_to_pg' is not defined",
     "output_type": "error",
     "traceback": [
      "\u001b[0;31m---------------------------------------------------------------------------\u001b[0m",
      "\u001b[0;31mNameError\u001b[0m                                 Traceback (most recent call last)",
      "\u001b[0;32m<ipython-input-17-89e532eb1e7f>\u001b[0m in \u001b[0;36m<module>\u001b[0;34m\u001b[0m\n\u001b[0;32m----> 1\u001b[0;31m \u001b[0mwrite_yelp2category_to_pg\u001b[0m\u001b[0;34m(\u001b[0m\u001b[0myelp_df\u001b[0m\u001b[0;34m,\u001b[0m \u001b[0mcategory_df\u001b[0m\u001b[0;34m,\u001b[0m \u001b[0mconfig\u001b[0m\u001b[0;34m)\u001b[0m\u001b[0;34m\u001b[0m\u001b[0;34m\u001b[0m\u001b[0m\n\u001b[0m",
      "\u001b[0;31mNameError\u001b[0m: name 'write_yelp2category_to_pg' is not defined"
     ]
    }
   ],
   "source": [
    "write_yelp2category_to_pg(yelp_df, category_df, config)"
   ]
  },
  {
   "cell_type": "code",
   "execution_count": 43,
   "metadata": {},
   "outputs": [],
   "source": [
    "def write_yelp_geo_to_pg(yelp_df):\n",
    "    def insertion_dict(row):\n",
    "        if row.longitude != None and row.latitude != None:\n",
    "            return {\"yelp_id\": row.id, \"location\": f'POINT({row.longitude} {row.latitude})'}\n",
    "        return None\n",
    "    \n",
    "    metadata = MetaData()\n",
    "    geo_table = Table('yelp_geo', metadata,\n",
    "        Column('yelp_id', Integer, primary_key=True),\n",
    "        Column('location', Geometry('POINT'))\n",
    "    )\n",
    "    engine = create_engine(config[\"postgres\"][env][\"url\"])\n",
    "    conn = engine.connect()\n",
    "\n",
    "    conn.execute(geo_table.insert(),\n",
    "                 yelp_df.rdd.map(insertion_dict).filter(lambda d: d != None).collect())"
   ]
  },
  {
   "cell_type": "code",
   "execution_count": 44,
   "metadata": {},
   "outputs": [],
   "source": [
    "write_yelp_geo_to_pg(yelp_df)"
   ]
  },
  {
   "cell_type": "code",
   "execution_count": null,
   "metadata": {},
   "outputs": [],
   "source": []
  }
 ],
 "metadata": {
  "kernelspec": {
   "display_name": "Python 3",
   "language": "python",
   "name": "python3"
  },
  "language_info": {
   "codemirror_mode": {
    "name": "ipython",
    "version": 3
   },
   "file_extension": ".py",
   "mimetype": "text/x-python",
   "name": "python",
   "nbconvert_exporter": "python",
   "pygments_lexer": "ipython3",
   "version": "3.7.2"
  }
 },
 "nbformat": 4,
 "nbformat_minor": 2
}
