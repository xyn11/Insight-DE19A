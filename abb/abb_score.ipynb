{
 "cells": [
  {
   "cell_type": "code",
   "execution_count": 1,
   "metadata": {},
   "outputs": [],
   "source": [
    "%load_ext autoreload\n",
    "%autoreload 2"
   ]
  },
  {
   "cell_type": "code",
   "execution_count": 2,
   "metadata": {},
   "outputs": [],
   "source": [
    "import json\n",
    "from pyspark import SparkContext, SparkConf\n",
    "from pyspark.sql import SQLContext, DataFrameWriter, DataFrameReader\n",
    "from pyspark.sql.types import *\n",
    "from pyspark.sql.functions import *"
   ]
  },
  {
   "cell_type": "code",
   "execution_count": 18,
   "metadata": {},
   "outputs": [],
   "source": [
    "from sqlalchemy import Table, Column, Integer, Float, String, MetaData, create_engine\n",
    "from geoalchemy2 import Geography\n",
    "from sqlalchemy.sql import select\n",
    "from sqlalchemy import func"
   ]
  },
  {
   "cell_type": "code",
   "execution_count": 4,
   "metadata": {},
   "outputs": [],
   "source": [
    "env = \"development\""
   ]
  },
  {
   "cell_type": "code",
   "execution_count": 5,
   "metadata": {},
   "outputs": [],
   "source": [
    "def get_config():\n",
    "    with open(\"../config.json\", \"r\") as f:\n",
    "        jsonstr = f.read()\n",
    "        conf = json.loads(jsonstr)\n",
    "        return conf"
   ]
  },
  {
   "cell_type": "code",
   "execution_count": 6,
   "metadata": {},
   "outputs": [],
   "source": [
    "def get_spark_conf(config):\n",
    "    '''set config'''\n",
    "    conf = SparkConf()\n",
    "    conf.setAppName('abb_t')\n",
    "    conf.set('spark.master', config[\"spark\"][\"master_url\"])\n",
    "    return conf"
   ]
  },
  {
   "cell_type": "code",
   "execution_count": 7,
   "metadata": {},
   "outputs": [],
   "source": [
    "def get_pg_props(config):\n",
    "    '''set psql properties'''\n",
    "    props = {\n",
    "        \"user\": config[\"postgres\"][\"user\"],\n",
    "        \"password\": config[\"postgres\"][\"password\"],\n",
    "        \"driver\": \"org.postgresql.Driver\",\n",
    "    }\n",
    "    return props"
   ]
  },
  {
   "cell_type": "code",
   "execution_count": 8,
   "metadata": {},
   "outputs": [],
   "source": [
    "config = get_config()\n",
    "spark_conf = get_spark_conf(config)\n",
    "sc = SparkContext(conf=spark_conf)"
   ]
  },
  {
   "cell_type": "code",
   "execution_count": 9,
   "metadata": {},
   "outputs": [],
   "source": [
    "sql_context = SQLContext(sc)"
   ]
  },
  {
   "cell_type": "code",
   "execution_count": 10,
   "metadata": {},
   "outputs": [],
   "source": [
    "city = \"Toronto\"\n",
    "category = \"Restaurants\""
   ]
  },
  {
   "cell_type": "code",
   "execution_count": 11,
   "metadata": {},
   "outputs": [],
   "source": [
    "abb_df = DataFrameReader(sql_context).jdbc(url=config[\"postgres\"][env][\"jdbc\"], \n",
    "                                           table='abb', \n",
    "                                           properties=get_pg_props(config))"
   ]
  },
  {
   "cell_type": "code",
   "execution_count": 12,
   "metadata": {},
   "outputs": [],
   "source": [
    "abb_df = abb_df.filter(abb_df.city == city)"
   ]
  },
  {
   "cell_type": "code",
   "execution_count": 13,
   "metadata": {},
   "outputs": [],
   "source": [
    "metadata = MetaData()"
   ]
  },
  {
   "cell_type": "code",
   "execution_count": 14,
   "metadata": {},
   "outputs": [],
   "source": [
    "yelp_table = Table('yelp', metadata,\n",
    "                   Column('id', Integer, primary_key=True),\n",
    "                   Column('name', String),\n",
    "                   Column('latitude', Float),\n",
    "                   Column('longitude', Float),\n",
    "                   Column('stars', Float),\n",
    "                   Column('review_count', Integer),\n",
    "                   Column('address', String),\n",
    "                   Column('city', String),\n",
    "                   Column('state', String))"
   ]
  },
  {
   "cell_type": "code",
   "execution_count": 15,
   "metadata": {},
   "outputs": [],
   "source": [
    "categories_table = Table('categories', metadata,\n",
    "                         Column('id', Integer, primary_key=True),\n",
    "                         Column('name', String))"
   ]
  },
  {
   "cell_type": "code",
   "execution_count": 16,
   "metadata": {},
   "outputs": [],
   "source": [
    "yelp2category_table = Table('yelp2category', metadata,\n",
    "                            Column('yelp_id', Integer),\n",
    "                            Column('category_id', String))"
   ]
  },
  {
   "cell_type": "code",
   "execution_count": 17,
   "metadata": {},
   "outputs": [],
   "source": [
    "yelp_geo_table = Table('yelp_geo', metadata,\n",
    "                        Column('yelp_id', Integer),\n",
    "                        Column('location', Geography(geometry_type='POINT', srid=4326)))"
   ]
  },
  {
   "cell_type": "code",
   "execution_count": 81,
   "metadata": {},
   "outputs": [],
   "source": [
    "distance_threshold = 500"
   ]
  },
  {
   "cell_type": "code",
   "execution_count": 29,
   "metadata": {},
   "outputs": [
    {
     "name": "stderr",
     "output_type": "stream",
     "text": [
      "/home/ubuntu/py3.7/lib/python3.7/site-packages/psycopg2/__init__.py:144: UserWarning: The psycopg2 wheel package will be renamed from release 2.8; in order to keep installing from binary please use \"pip install psycopg2-binary\" instead. For details see: <http://initd.org/psycopg/docs/install.html#binary-install-from-pypi>.\n",
      "  \"\"\")\n"
     ]
    }
   ],
   "source": [
    "engine = create_engine(config[\"postgres\"][env][\"url\"])"
   ]
  },
  {
   "cell_type": "code",
   "execution_count": 30,
   "metadata": {},
   "outputs": [],
   "source": [
    "conn = engine.connect()"
   ]
  },
  {
   "cell_type": "code",
   "execution_count": 91,
   "metadata": {},
   "outputs": [],
   "source": [
    "score_dict = {10: 1000, 9: 100, 8: 10, 7:1}"
   ]
  },
  {
   "cell_type": "code",
   "execution_count": 93,
   "metadata": {},
   "outputs": [
    {
     "data": {
      "text/plain": [
       "11038"
      ]
     },
     "execution_count": 93,
     "metadata": {},
     "output_type": "execute_result"
    }
   ],
   "source": [
    "compute_score(result)"
   ]
  },
  {
   "cell_type": "code",
   "execution_count": 103,
   "metadata": {},
   "outputs": [],
   "source": [
    "def compute_listing_score(listing, city, category):\n",
    "    def compute_score(selection_result):\n",
    "        score = 0\n",
    "        for row in selection_result:\n",
    "            doublestar = int(row.stars*2)\n",
    "            if doublestar in score_dict:\n",
    "                score += score_dict[doublestar]\n",
    "        return score    \n",
    "    \n",
    "    if listing.longitude == None or listing.latitude == None:\n",
    "        return 0\n",
    "    selection = select([yelp_table.c.stars])\\\n",
    "        .select_from(yelp_table.join(yelp2category_table, yelp_table.c.id == yelp2category_table.c.yelp_id)\\\n",
    "                               .join(categories_table, yelp2category_table.c.category_id == categories_table.c.id)\n",
    "                               .join(yelp_geo_table, yelp_geo_table.c.yelp_id == yelp_table.c.id))\\\n",
    "        .where(yelp_table.c.city == city)\\\n",
    "        .where(categories_table.c.name == category)\\\n",
    "        .where(func.ST_Distance(f'POINT({listing.longitude} {listing.latitude})',\n",
    "                                yelp_geo_table.c.location) <= distance_threshold)\\\n",
    "        .where(yelp_table.c.stars > 3)  \n",
    "    \n",
    "    result = conn.execute(selection)\n",
    "    return compute_score(result)"
   ]
  },
  {
   "cell_type": "code",
   "execution_count": 125,
   "metadata": {},
   "outputs": [],
   "source": [
    "def write_score_table(listings, city, category, debug=False):\n",
    "    def prepare_score_rows():\n",
    "        rows = []\n",
    "        progress = 0\n",
    "        for listing in listings:\n",
    "            score = compute_listing_score(listing)\n",
    "            rows.append({\"abb_id\": listing.id, \"score\": score})\n",
    "            progress += 1\n",
    "            if debug and progress % 1000 == 0:\n",
    "                print(\"progress:\", progress) \n",
    "        return rows\n",
    "    \n",
    "    rows = prepare_score_rows()\n",
    "    table_name = f\"abb_{category.lower()}\"\n",
    "    score_table = Table(table_name, metadata,\n",
    "                        Column('abb_id', Integer, primary_key=True),\n",
    "                        Column('score', Integer),\n",
    "                        keep_existing=True)\n",
    "    conn.execute(score_table.insert(), rows)"
   ]
  },
  {
   "cell_type": "code",
   "execution_count": 128,
   "metadata": {},
   "outputs": [
    {
     "name": "stdout",
     "output_type": "stream",
     "text": [
      "progress: 1000\n",
      "progress: 2000\n",
      "progress: 3000\n",
      "progress: 4000\n",
      "progress: 5000\n",
      "progress: 6000\n",
      "progress: 7000\n",
      "progress: 8000\n",
      "progress: 9000\n",
      "progress: 10000\n",
      "progress: 11000\n",
      "progress: 12000\n",
      "progress: 13000\n",
      "progress: 14000\n",
      "progress: 15000\n",
      "progress: 16000\n",
      "progress: 17000\n",
      "progress: 18000\n",
      "progress: 19000\n"
     ]
    }
   ],
   "source": [
    "write_score_table(abb_df.collect(), \"Toronto\", \"Restaurants\", debug=True)"
   ]
  },
  {
   "cell_type": "code",
   "execution_count": null,
   "metadata": {},
   "outputs": [],
   "source": []
  },
  {
   "cell_type": "code",
   "execution_count": null,
   "metadata": {},
   "outputs": [],
   "source": []
  }
 ],
 "metadata": {
  "kernelspec": {
   "display_name": "Python 3",
   "language": "python",
   "name": "python3"
  },
  "language_info": {
   "codemirror_mode": {
    "name": "ipython",
    "version": 3
   },
   "file_extension": ".py",
   "mimetype": "text/x-python",
   "name": "python",
   "nbconvert_exporter": "python",
   "pygments_lexer": "ipython3",
   "version": "3.7.2"
  }
 },
 "nbformat": 4,
 "nbformat_minor": 2
}
