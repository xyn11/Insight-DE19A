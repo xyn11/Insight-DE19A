{
 "cells": [
  {
   "cell_type": "code",
   "execution_count": 1,
   "metadata": {},
   "outputs": [],
   "source": [
    "%load_ext autoreload\n",
    "%autoreload 2"
   ]
  },
  {
   "cell_type": "code",
   "execution_count": 2,
   "metadata": {},
   "outputs": [],
   "source": [
    "import json\n",
    "from pyspark import SparkContext, SparkConf\n",
    "from pyspark.sql import SQLContext, DataFrameWriter, DataFrameReader\n",
    "from pyspark.sql.types import *\n",
    "from pyspark.sql.functions import *"
   ]
  },
  {
   "cell_type": "code",
   "execution_count": 3,
   "metadata": {},
   "outputs": [],
   "source": [
    "from sqlalchemy import Table, Column, Integer, Float, String, MetaData, create_engine\n",
    "from geoalchemy2 import Geography\n",
    "from sqlalchemy.sql import select\n",
    "from sqlalchemy import func"
   ]
  },
  {
   "cell_type": "code",
   "execution_count": 4,
   "metadata": {},
   "outputs": [],
   "source": [
    "env = \"development\""
   ]
  },
  {
   "cell_type": "code",
   "execution_count": 5,
   "metadata": {},
   "outputs": [],
   "source": [
    "def get_config():\n",
    "    with open(\"../config.json\", \"r\") as f:\n",
    "        jsonstr = f.read()\n",
    "        conf = json.loads(jsonstr)\n",
    "        return conf"
   ]
  },
  {
   "cell_type": "code",
   "execution_count": 6,
   "metadata": {},
   "outputs": [],
   "source": [
    "def get_spark_conf(config):\n",
    "    '''set config'''\n",
    "    conf = SparkConf()\n",
    "    conf.setAppName('abb_t')\n",
    "    conf.set('spark.master', config[\"spark\"][\"master_url\"])\n",
    "    return conf"
   ]
  },
  {
   "cell_type": "code",
   "execution_count": 7,
   "metadata": {},
   "outputs": [],
   "source": [
    "def get_pg_props(config):\n",
    "    '''set psql properties'''\n",
    "    props = {\n",
    "        \"user\": config[\"postgres\"][\"user\"],\n",
    "        \"password\": config[\"postgres\"][\"password\"],\n",
    "        \"driver\": \"org.postgresql.Driver\",\n",
    "    }\n",
    "    return props"
   ]
  },
  {
   "cell_type": "code",
   "execution_count": 8,
   "metadata": {},
   "outputs": [],
   "source": [
    "config = get_config()\n",
    "spark_conf = get_spark_conf(config)\n",
    "sc = SparkContext(conf=spark_conf)"
   ]
  },
  {
   "cell_type": "code",
   "execution_count": 9,
   "metadata": {},
   "outputs": [],
   "source": [
    "metadata = MetaData()"
   ]
  },
  {
   "cell_type": "code",
   "execution_count": 10,
   "metadata": {},
   "outputs": [],
   "source": [
    "yelp_table = Table('yelp', metadata,                   \n",
    "                   Column('id', Integer, primary_key=True),\n",
    "                   Column('name', String),\n",
    "                   Column('latitude', Float),\n",
    "                   Column('longitude', Float),\n",
    "                   Column('stars', Float),\n",
    "                   Column('review_count', Integer),\n",
    "                   Column('address', String),\n",
    "                   Column('city', String),\n",
    "                   Column('state', String),\n",
    "                   keep_existing=True)"
   ]
  },
  {
   "cell_type": "code",
   "execution_count": 11,
   "metadata": {},
   "outputs": [],
   "source": [
    "categories_table = Table('categories', metadata,\n",
    "                         Column('id', Integer, primary_key=True),\n",
    "                         Column('name', String),\n",
    "                         keep_existing=True)"
   ]
  },
  {
   "cell_type": "code",
   "execution_count": 12,
   "metadata": {},
   "outputs": [],
   "source": [
    "yelp2category_table = Table('yelp2category', metadata,\n",
    "                            Column('yelp_id', Integer),\n",
    "                            Column('category_id', String),\n",
    "                            keep_existing=True)"
   ]
  },
  {
   "cell_type": "code",
   "execution_count": 13,
   "metadata": {},
   "outputs": [],
   "source": [
    "yelp_geo_table = Table('yelp_geo', metadata,\n",
    "                        Column('yelp_id', Integer),\n",
    "                        Column('location', Geography(geometry_type='POINT', srid=4326)),\n",
    "                        keep_existing=True)"
   ]
  },
  {
   "cell_type": "code",
   "execution_count": 27,
   "metadata": {},
   "outputs": [],
   "source": [
    "abb_table = Table('abb', metadata,\n",
    "                  Column('id', Integer, primary_key=True),\n",
    "                  Column('name', String),\n",
    "                  Column('latitude', Float),\n",
    "                  Column('longitude', Float),\n",
    "                  Column('price', Integer),\n",
    "                  Column('number_of_reviews', Integer),\n",
    "                  Column('city', String),\n",
    "                  keep_existing=True)            "
   ]
  },
  {
   "cell_type": "code",
   "execution_count": 14,
   "metadata": {},
   "outputs": [],
   "source": [
    "distance_threshold = 500"
   ]
  },
  {
   "cell_type": "code",
   "execution_count": 15,
   "metadata": {},
   "outputs": [],
   "source": [
    "score_dict = {10: 1000, 9: 100, 8: 10, 7:1}"
   ]
  },
  {
   "cell_type": "code",
   "execution_count": 21,
   "metadata": {},
   "outputs": [],
   "source": [
    "sql_context = SQLContext(sc)"
   ]
  },
  {
   "cell_type": "code",
   "execution_count": 22,
   "metadata": {},
   "outputs": [],
   "source": [
    "def compute_listing_score(conn, listing, city, category):\n",
    "    def compute_score(selection_result):\n",
    "        score = 0\n",
    "        for row in selection_result:\n",
    "            doublestar = int(row.stars*2)\n",
    "            if doublestar in score_dict:\n",
    "                score += score_dict[doublestar]\n",
    "        return score    \n",
    "    \n",
    "    if listing.longitude == None or listing.latitude == None:\n",
    "        return 0\n",
    "    selection = select([yelp_table.c.stars])\\\n",
    "        .select_from(yelp_table.join(yelp2category_table, yelp_table.c.id == yelp2category_table.c.yelp_id)\\\n",
    "                               .join(categories_table, yelp2category_table.c.category_id == categories_table.c.id)\n",
    "                               .join(yelp_geo_table, yelp_geo_table.c.yelp_id == yelp_table.c.id))\\\n",
    "        .where(yelp_table.c.city == city)\\\n",
    "        .where(categories_table.c.name == category)\\\n",
    "        .where(func.ST_Distance(f'POINT({listing.longitude} {listing.latitude})',\n",
    "                                yelp_geo_table.c.location) <= distance_threshold)\\\n",
    "        .where(yelp_table.c.stars > 3)  \n",
    "    \n",
    "    result = conn.execute(selection)\n",
    "    return compute_score(result)"
   ]
  },
  {
   "cell_type": "code",
   "execution_count": 23,
   "metadata": {},
   "outputs": [],
   "source": [
    "def write_score_table(conn, listings, city, category, debug=False):\n",
    "    def prepare_score_rows():\n",
    "        rows = []\n",
    "        progress = 0\n",
    "        for listing in listings:\n",
    "            score = compute_listing_score(conn, listing, city, category)\n",
    "            rows.append({\"abb_id\": listing.id, \"score\": score})\n",
    "            progress += 1\n",
    "            if debug and progress % 1000 == 0:\n",
    "                print(\"progress:\", progress) \n",
    "        return rows\n",
    "    \n",
    "    rows = prepare_score_rows()\n",
    "    table_name = f\"abb_{category.lower()}\"\n",
    "    score_table = Table(table_name, metadata,\n",
    "                        Column('abb_id', Integer, primary_key=True),\n",
    "                        Column('score', Integer),\n",
    "                        keep_existing=True)\n",
    "    conn.execute(score_table.insert(), rows)"
   ]
  },
  {
   "cell_type": "code",
   "execution_count": 34,
   "metadata": {},
   "outputs": [],
   "source": [
    "def run_city_category(city_category_pair):\n",
    "    engine = create_engine(config[\"postgres\"][env][\"url\"])\n",
    "    conn = engine.connect()\n",
    "    city, category = city_category_pair\n",
    "    \n",
    "    selection = select([abb_table.c.id, abb_table.c.name, abb_table.c.longitude, abb_table.c.latitude])\\\n",
    "        .select_from(abb_table)\\\n",
    "        .where(abb_table.c.city == city)\\\n",
    "        .limit(10)\n",
    "    listings_result = conn.execute(selection)\n",
    "    scores = []\n",
    "    for listing in listings_result:\n",
    "        scores.append({\"name\": listing.name, \"score\": compute_listing_score(conn, listing, city, category)})\n",
    "    return scores\n",
    "    #write_score_table(df, city, category, debug=True)"
   ]
  },
  {
   "cell_type": "code",
   "execution_count": 35,
   "metadata": {},
   "outputs": [],
   "source": [
    "pairs = [(\"Toronto\", \"Restaurants\"), (\"Toronto\", \"Shopping\")]\n",
    "rdd = sc.parallelize(pairs)\n",
    "res = rdd.map(run_city_category).collect()"
   ]
  },
  {
   "cell_type": "code",
   "execution_count": 36,
   "metadata": {},
   "outputs": [
    {
     "name": "stdout",
     "output_type": "stream",
     "text": [
      "[[{'name': 'Beautiful home in amazing area!', 'score': 11039}, {'name': 'Downtown Harbourfront Private Room', 'score': 104}, {'name': 'Union Inn II (Leslieville)', 'score': 390}, {'name': 'Seaton Village Parlour Bedroom', 'score': 5416}, {'name': 'Queen Bedroom close to downtown', 'score': 312}, {'name': 'World Class downtown@ CN Tower! Jays, TIFF, ACC', 'score': 3899}, {'name': 'Executive Studio Unit- Ideal for One Person', 'score': 1650}, {'name': 'Luxury,Safety, Affordability For Women Travellers!', 'score': 3340}, {'name': 'Downtown Toronto - Waterview Condo', 'score': 104}, {'name': 'Entire Suite in Downtown+Parking', 'score': 33}], [{'name': 'Beautiful home in amazing area!', 'score': 10963}, {'name': 'Downtown Harbourfront Private Room', 'score': 2003}, {'name': 'Union Inn II (Leslieville)', 'score': 1011}, {'name': 'Seaton Village Parlour Bedroom', 'score': 6018}, {'name': 'Queen Bedroom close to downtown', 'score': 1000}, {'name': 'World Class downtown@ CN Tower! Jays, TIFF, ACC', 'score': 5675}, {'name': 'Executive Studio Unit- Ideal for One Person', 'score': 202}, {'name': 'Luxury,Safety, Affordability For Women Travellers!', 'score': 5155}, {'name': 'Downtown Toronto - Waterview Condo', 'score': 2003}, {'name': 'Entire Suite in Downtown+Parking', 'score': 1210}]]\n"
     ]
    }
   ],
   "source": [
    "print(res)"
   ]
  },
  {
   "cell_type": "code",
   "execution_count": null,
   "metadata": {},
   "outputs": [],
   "source": []
  }
 ],
 "metadata": {
  "kernelspec": {
   "display_name": "Python 3",
   "language": "python",
   "name": "python3"
  },
  "language_info": {
   "codemirror_mode": {
    "name": "ipython",
    "version": 3
   },
   "file_extension": ".py",
   "mimetype": "text/x-python",
   "name": "python",
   "nbconvert_exporter": "python",
   "pygments_lexer": "ipython3",
   "version": "3.7.2"
  }
 },
 "nbformat": 4,
 "nbformat_minor": 2
}
