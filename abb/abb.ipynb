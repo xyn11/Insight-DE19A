{
 "cells": [
  {
   "cell_type": "code",
   "execution_count": 1,
   "metadata": {},
   "outputs": [],
   "source": [
    "import json\n",
    "from pyspark import SparkContext, SparkConf\n",
    "from pyspark.sql import SQLContext, DataFrameWriter, DataFrameReader\n",
    "from pyspark.sql.types import *\n",
    "from pyspark.sql.functions import *"
   ]
  },
  {
   "cell_type": "code",
   "execution_count": 2,
   "metadata": {},
   "outputs": [],
   "source": [
    "def get_config():\n",
    "    with open(\"secret.json\", \"r\") as f:\n",
    "        jsonstr = f.read()\n",
    "        conf = json.loads(jsonstr)\n",
    "        return conf\n",
    "\n",
    "def get_spark_conf(config):\n",
    "    '''set config'''\n",
    "    conf = SparkConf()\n",
    "    conf.setAppName('abb_t')\n",
    "    conf.set('spark.master', config[\"spark\"][\"master_url\"])\n",
    "    return conf\n",
    "\n",
    "def get_pg_props(config):\n",
    "    '''set psql properties'''\n",
    "    props = {\n",
    "        \"user\": config[\"postgres\"][\"user\"],\n",
    "        \"password\": config[\"postgres\"][\"password\"],\n",
    "        \"driver\": \"org.postgresql.Driver\",\n",
    "    }\n",
    "    return props"
   ]
  },
  {
   "cell_type": "code",
   "execution_count": 13,
   "metadata": {},
   "outputs": [],
   "source": [
    "def getdf(sql_context, config): \n",
    "    '''filter abb dataset'''\n",
    "    df = sql_context \\\n",
    "        .read.format('csv').options(header='true') \\\n",
    "        .load(config[\"s3\"][\"abb_toronto_listings\"])\n",
    "    return df"
   ]
  },
  {
   "cell_type": "code",
   "execution_count": 5,
   "metadata": {},
   "outputs": [],
   "source": [
    "def write_to_pg(toronto_listings, config):\n",
    "    '''write to psql'''\n",
    "    url = \"jdbc:postgresql://10.0.0.14/xyn\"\n",
    "    table = 'abb'\n",
    "    mode = 'overwrite'\n",
    "    props = get_pg_props(config)\n",
    "    toronto_listings.write.jdbc(url, table, mode, props)"
   ]
  },
  {
   "cell_type": "code",
   "execution_count": 6,
   "metadata": {},
   "outputs": [],
   "source": [
    "config = get_config()\n",
    "spark_conf = get_spark_conf(config)\n",
    "sc = SparkContext(conf=spark_conf)"
   ]
  },
  {
   "cell_type": "code",
   "execution_count": 7,
   "metadata": {},
   "outputs": [],
   "source": [
    "sql_context = SQLContext(sc)"
   ]
  },
  {
   "cell_type": "code",
   "execution_count": 14,
   "metadata": {},
   "outputs": [],
   "source": [
    "df = getdf(sql_context, config)"
   ]
  },
  {
   "cell_type": "code",
   "execution_count": 15,
   "metadata": {},
   "outputs": [
    {
     "name": "stdout",
     "output_type": "stream",
     "text": [
      "root\n",
      " |-- id: string (nullable = true)\n",
      " |-- name: string (nullable = true)\n",
      " |-- host_id: string (nullable = true)\n",
      " |-- host_name: string (nullable = true)\n",
      " |-- neighbourhood_group: string (nullable = true)\n",
      " |-- neighbourhood: string (nullable = true)\n",
      " |-- latitude: string (nullable = true)\n",
      " |-- longitude: string (nullable = true)\n",
      " |-- room_type: string (nullable = true)\n",
      " |-- price: string (nullable = true)\n",
      " |-- minimum_nights: string (nullable = true)\n",
      " |-- number_of_reviews: string (nullable = true)\n",
      " |-- last_review: string (nullable = true)\n",
      " |-- reviews_per_month: string (nullable = true)\n",
      " |-- calculated_host_listings_count: string (nullable = true)\n",
      " |-- availability_365: string (nullable = true)\n",
      "\n"
     ]
    }
   ],
   "source": [
    "df.printSchema()"
   ]
  },
  {
   "cell_type": "code",
   "execution_count": 24,
   "metadata": {},
   "outputs": [],
   "source": [
    "toronto_listings = df.withColumn(\"latitude\", df[\"latitude\"].cast(DoubleType())) \\\n",
    "                    .withColumn(\"longitude\", df[\"longitude\"].cast(DoubleType())) \\\n",
    "                    .withColumn(\"price\", df[\"price\"].cast(IntegerType())) \\\n",
    "                    .withColumn(\"number_of_reviews\", df[\"number_of_reviews\"].cast(IntegerType()))\\\n",
    "                    [\"latitude\", \"longitude\", \"price\", \"number_of_reviews\"]"
   ]
  },
  {
   "cell_type": "code",
   "execution_count": 25,
   "metadata": {},
   "outputs": [
    {
     "name": "stdout",
     "output_type": "stream",
     "text": [
      "root\n",
      " |-- latitude: double (nullable = true)\n",
      " |-- longitude: double (nullable = true)\n",
      " |-- price: integer (nullable = true)\n",
      " |-- number_of_reviews: integer (nullable = true)\n",
      "\n"
     ]
    }
   ],
   "source": [
    "toronto_listings.printSchema()"
   ]
  },
  {
   "cell_type": "code",
   "execution_count": 27,
   "metadata": {},
   "outputs": [
    {
     "data": {
      "text/plain": [
       "Row(latitude=43.646167661556824, longitude=-79.42451012783086, price=469, number_of_reviews=7)"
      ]
     },
     "execution_count": 27,
     "metadata": {},
     "output_type": "execute_result"
    }
   ],
   "source": [
    "toronto_listings.head()"
   ]
  },
  {
   "cell_type": "code",
   "execution_count": 28,
   "metadata": {},
   "outputs": [
    {
     "name": "stdout",
     "output_type": "stream",
     "text": [
      "+-------+------------------+------------------+------------------+------------------+\n",
      "|summary|          latitude|         longitude|             price| number_of_reviews|\n",
      "+-------+------------------+------------------+------------------+------------------+\n",
      "|  count|             19250|             19208|             19250|             19208|\n",
      "|   mean| 43.38517565754363|-79.37134977935965|139.52005194805196|23.738025822573928|\n",
      "| stddev| 6.009661132118586|1.7767816752807741|210.53457865340496| 42.61145776544502|\n",
      "|    min|-79.57713012060132|-79.62345558679347|                 0|                 0|\n",
      "|    max| 43.83946750721422|43.704626131941126|             13315|               643|\n",
      "+-------+------------------+------------------+------------------+------------------+\n",
      "\n"
     ]
    }
   ],
   "source": [
    "toronto_listings.describe().show()"
   ]
  },
  {
   "cell_type": "code",
   "execution_count": 29,
   "metadata": {},
   "outputs": [],
   "source": [
    "write_to_pg(toronto_listings, config)"
   ]
  },
  {
   "cell_type": "code",
   "execution_count": null,
   "metadata": {},
   "outputs": [],
   "source": []
  }
 ],
 "metadata": {
  "kernelspec": {
   "display_name": "Python 3",
   "language": "python",
   "name": "python3"
  },
  "language_info": {
   "codemirror_mode": {
    "name": "ipython",
    "version": 3
   },
   "file_extension": ".py",
   "mimetype": "text/x-python",
   "name": "python",
   "nbconvert_exporter": "python",
   "pygments_lexer": "ipython3",
   "version": "3.7.2"
  }
 },
 "nbformat": 4,
 "nbformat_minor": 2
}
