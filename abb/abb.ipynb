{
 "cells": [
  {
   "cell_type": "code",
   "execution_count": 1,
   "metadata": {},
   "outputs": [],
   "source": [
    "import json\n",
    "from pyspark import SparkContext, SparkConf\n",
    "from pyspark.sql import SQLContext, DataFrameWriter, DataFrameReader\n",
    "from pyspark.sql.types import *\n",
    "from pyspark.sql.functions import *"
   ]
  },
  {
   "cell_type": "code",
   "execution_count": 2,
   "metadata": {},
   "outputs": [],
   "source": [
    "env = \"development\""
   ]
  },
  {
   "cell_type": "code",
   "execution_count": 3,
   "metadata": {},
   "outputs": [],
   "source": [
    "def get_config():\n",
    "    with open(\"../config.json\", \"r\") as f:\n",
    "        jsonstr = f.read()\n",
    "        conf = json.loads(jsonstr)\n",
    "        return conf"
   ]
  },
  {
   "cell_type": "code",
   "execution_count": 4,
   "metadata": {},
   "outputs": [],
   "source": [
    "def get_spark_conf(config):\n",
    "    '''set config'''\n",
    "    conf = SparkConf()\n",
    "    conf.setAppName('abb_t')\n",
    "    conf.set('spark.master', config[\"spark\"][\"master_url\"])\n",
    "    return conf"
   ]
  },
  {
   "cell_type": "code",
   "execution_count": 5,
   "metadata": {},
   "outputs": [],
   "source": [
    "def get_pg_props(config):\n",
    "    '''set psql properties'''\n",
    "    props = {\n",
    "        \"user\": config[\"postgres\"][\"user\"],\n",
    "        \"password\": config[\"postgres\"][\"password\"],\n",
    "        \"driver\": \"org.postgresql.Driver\",\n",
    "    }\n",
    "    return props"
   ]
  },
  {
   "cell_type": "code",
   "execution_count": 6,
   "metadata": {},
   "outputs": [],
   "source": [
    "def getdf(sql_context, config, city): \n",
    "    '''filter abb dataset'''\n",
    "    \n",
    "    df = sql_context \\\n",
    "        .read.format('csv').options(header='true') \\\n",
    "        .load(config[\"abb\"][city][\"s3\"])\n",
    "    return df"
   ]
  },
  {
   "cell_type": "code",
   "execution_count": 15,
   "metadata": {},
   "outputs": [],
   "source": [
    "def append_to_pg(df, config):\n",
    "    '''write to psql'''\n",
    "    url = config[\"postgres\"][env][\"jdbc\"]\n",
    "    props = get_pg_props(config)\n",
    "    df.write.jdbc(url, table=\"abb\", mode=\"append\", properties=props)"
   ]
  },
  {
   "cell_type": "code",
   "execution_count": 8,
   "metadata": {},
   "outputs": [],
   "source": [
    "config = get_config()\n",
    "spark_conf = get_spark_conf(config)\n",
    "sc = SparkContext(conf=spark_conf)"
   ]
  },
  {
   "cell_type": "code",
   "execution_count": 9,
   "metadata": {},
   "outputs": [],
   "source": [
    "sql_context = SQLContext(sc)"
   ]
  },
  {
   "cell_type": "code",
   "execution_count": 20,
   "metadata": {},
   "outputs": [],
   "source": [
    "selected_columns = [\"name\", \"city\", \"latitude\", \"longitude\", \"price\", \"number_of_reviews\"]"
   ]
  },
  {
   "cell_type": "code",
   "execution_count": 21,
   "metadata": {},
   "outputs": [],
   "source": [
    "def get_city_df(sql_context, config, city):\n",
    "    df = getdf(sql_context, config, city=city)\n",
    "    city_listings = df.withColumn(\"latitude\", df[\"latitude\"].cast(DoubleType())) \\\n",
    "                      .withColumn(\"longitude\", df[\"longitude\"].cast(DoubleType())) \\\n",
    "                      .withColumn(\"price\", df[\"price\"].cast(IntegerType())) \\\n",
    "                      .withColumn(\"number_of_reviews\", df[\"number_of_reviews\"].cast(IntegerType()))\\\n",
    "                      .withColumn(\"city\", lit(city))[selected_columns]\n",
    "    return city_listings"
   ]
  },
  {
   "cell_type": "code",
   "execution_count": 22,
   "metadata": {},
   "outputs": [],
   "source": [
    "for city in [\"Toronto\"]:\n",
    "    df = get_city_df(sql_context, config, city)\n",
    "    append_to_pg(df, config)"
   ]
  },
  {
   "cell_type": "code",
   "execution_count": null,
   "metadata": {},
   "outputs": [],
   "source": []
  }
 ],
 "metadata": {
  "kernelspec": {
   "display_name": "Python 3",
   "language": "python",
   "name": "python3"
  },
  "language_info": {
   "codemirror_mode": {
    "name": "ipython",
    "version": 3
   },
   "file_extension": ".py",
   "mimetype": "text/x-python",
   "name": "python",
   "nbconvert_exporter": "python",
   "pygments_lexer": "ipython3",
   "version": "3.7.2"
  }
 },
 "nbformat": 4,
 "nbformat_minor": 2
}
