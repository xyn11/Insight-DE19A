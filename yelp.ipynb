{
 "cells": [
  {
   "cell_type": "code",
   "execution_count": 1,
   "metadata": {},
   "outputs": [],
   "source": [
    "import json\n",
    "import tempfile\n",
    "import os\n",
    "from pyspark import SparkContext, SparkConf\n",
    "from pyspark.sql import SQLContext, DataFrameWriter, DataFrameReader\n",
    "from pyspark.sql.types import *\n",
    "from pyspark.sql.functions import *"
   ]
  },
  {
   "cell_type": "code",
   "execution_count": 2,
   "metadata": {},
   "outputs": [],
   "source": [
    "def get_config():\n",
    "    with open(\"secret.json\", \"r\") as f:\n",
    "        jsonstr = f.read()\n",
    "        conf = json.loads(jsonstr)\n",
    "        return conf\n",
    "\n",
    "def get_spark_conf(config):\n",
    "    '''set config'''\n",
    "    conf = SparkConf()\n",
    "    conf.setAppName('yelp')\n",
    "    conf.set('spark.master', config[\"spark\"][\"master_url\"])\n",
    "    return conf\n",
    "\n",
    "def get_pg_props(config):\n",
    "    '''set psql properties'''\n",
    "    props = {\n",
    "        \"user\": config[\"postgres\"][\"user\"],\n",
    "        \"password\": config[\"postgres\"][\"password\"],\n",
    "        \"driver\": \"org.postgresql.Driver\",\n",
    "    }\n",
    "    return props"
   ]
  },
  {
   "cell_type": "code",
   "execution_count": 3,
   "metadata": {},
   "outputs": [],
   "source": [
    "def getdf(sql_context, config):\n",
    "    '''filter yelp dataset'''\n",
    "    yelp_business = sql_context.read.json(config[\"s3\"][\"yelpurl\"])\n",
    "    yelp_business_f = yelp_business[['name', 'latitude', 'longitude',\n",
    "                                    'stars', 'review_count', 'address',\n",
    "                                     'city', 'state','categories']]\n",
    "    yelp_business_f.printSchema()\n",
    "    return yelp_business_f"
   ]
  },
  {
   "cell_type": "code",
   "execution_count": 4,
   "metadata": {},
   "outputs": [],
   "source": [
    "def write_to_pg(yelp_business_f, config):\n",
    "    '''write to psql'''\n",
    "    url = \"jdbc:postgresql://10.0.0.14/xyn\"\n",
    "    table = 'y_business'\n",
    "    props = get_pg_props(config)\n",
    "    yelp_business_f.write.jdbc(url=url, table=table, mode='overwrite', properties=props)"
   ]
  },
  {
   "cell_type": "code",
   "execution_count": 5,
   "metadata": {},
   "outputs": [],
   "source": [
    "config = get_config()\n",
    "spark_conf = get_spark_conf(config)\n",
    "sc = SparkContext(conf=spark_conf)"
   ]
  },
  {
   "cell_type": "code",
   "execution_count": 6,
   "metadata": {},
   "outputs": [
    {
     "name": "stdout",
     "output_type": "stream",
     "text": [
      "root\n",
      " |-- name: string (nullable = true)\n",
      " |-- latitude: double (nullable = true)\n",
      " |-- longitude: double (nullable = true)\n",
      " |-- stars: double (nullable = true)\n",
      " |-- review_count: long (nullable = true)\n",
      " |-- address: string (nullable = true)\n",
      " |-- city: string (nullable = true)\n",
      " |-- state: string (nullable = true)\n",
      " |-- categories: string (nullable = true)\n",
      "\n"
     ]
    }
   ],
   "source": [
    "sql_context = SQLContext(sc)\n",
    "yelp_business_f = getdf(sql_context, config)\n",
    "write_to_pg(yelp_business_f, config)"
   ]
  },
  {
   "cell_type": "code",
   "execution_count": 7,
   "metadata": {},
   "outputs": [],
   "source": [
    "toronto_mexican= yelp_business_f.where(\"categories like '%Mexican%'\").where(\"city like '%Toronto%'\").filter(yelp_business_f.stars>3.5)"
   ]
  },
  {
   "cell_type": "code",
   "execution_count": 8,
   "metadata": {},
   "outputs": [
    {
     "name": "stdout",
     "output_type": "stream",
     "text": [
      "-RECORD 0----------------------------\n",
      " name         | Burrito Boyz         \n",
      " latitude     | 43.7729924508        \n",
      " longitude    | -79.4140518612       \n",
      " stars        | 4.0                  \n",
      " review_count | 121                  \n",
      " address      | 5314 Yonge Street    \n",
      " city         | Toronto              \n",
      " state        | ON                   \n",
      " categories   | Mexican, Restaurants \n",
      "-RECORD 1----------------------------\n",
      " name         | MEXITACO             \n",
      " latitude     | 43.7088142           \n",
      " longitude    | -79.2959772          \n",
      " stars        | 4.0                  \n",
      " review_count | 65                   \n",
      " address      | 1109 Victoria Par... \n",
      " city         | Toronto              \n",
      " state        | ON                   \n",
      " categories   | Mexican, Nightlif... \n",
      "-RECORD 2----------------------------\n",
      " name         | Huevos Gourmet       \n",
      " latitude     | 43.6012391           \n",
      " longitude    | -79.5037742          \n",
      " stars        | 4.5                  \n",
      " review_count | 149                  \n",
      " address      | 2888 Lake Shore B... \n",
      " city         | Toronto              \n",
      " state        | ON                   \n",
      " categories   | Mexican, Breakfas... \n",
      "-RECORD 3----------------------------\n",
      " name         | Burrito Boyz         \n",
      " latitude     | 43.648702            \n",
      " longitude    | -79.388077           \n",
      " stars        | 4.0                  \n",
      " review_count | 375                  \n",
      " address      | 224 Adelaide Stre... \n",
      " city         | Toronto              \n",
      " state        | ON                   \n",
      " categories   | Restaurants, Mexi... \n",
      "-RECORD 4----------------------------\n",
      " name         | Hot Beans            \n",
      " latitude     | 43.6552887           \n",
      " longitude    | -79.3998718          \n",
      " stars        | 4.0                  \n",
      " review_count | 74                   \n",
      " address      | 160 Baldwin Street   \n",
      " city         | Toronto              \n",
      " state        | ON                   \n",
      " categories   | Restaurants, Vega... \n",
      "only showing top 5 rows\n",
      "\n"
     ]
    }
   ],
   "source": [
    "toronto_mexican.show(n=5, vertical = True)"
   ]
  },
  {
   "cell_type": "code",
   "execution_count": 9,
   "metadata": {},
   "outputs": [
    {
     "data": {
      "text/plain": [
       "76"
      ]
     },
     "execution_count": 9,
     "metadata": {},
     "output_type": "execute_result"
    }
   ],
   "source": [
    "toronto_mexican.count()"
   ]
  },
  {
   "cell_type": "code",
   "execution_count": 10,
   "metadata": {},
   "outputs": [],
   "source": [
    "def write_to_pg1(toronto_mexican, config):\n",
    "    '''write to psql'''\n",
    "    url = \"jdbc:postgresql://10.0.0.14/xyn\"\n",
    "    table = 'toronto_mexican'\n",
    "    props = get_pg_props(config)\n",
    "    toronto_mexican.write.jdbc(url=url, table=table, mode='overwrite', properties=props)"
   ]
  },
  {
   "cell_type": "code",
   "execution_count": 11,
   "metadata": {},
   "outputs": [],
   "source": [
    "write_to_pg1(toronto_mexican, config)"
   ]
  },
  {
   "cell_type": "code",
   "execution_count": 12,
   "metadata": {},
   "outputs": [],
   "source": [
    "toronto= yelp_business_f.where(\"city like '%Toronto%'\")"
   ]
  },
  {
   "cell_type": "code",
   "execution_count": 13,
   "metadata": {},
   "outputs": [
    {
     "data": {
      "text/plain": [
       "18244"
      ]
     },
     "execution_count": 13,
     "metadata": {},
     "output_type": "execute_result"
    }
   ],
   "source": [
    "toronto.count()"
   ]
  },
  {
   "cell_type": "code",
   "execution_count": 14,
   "metadata": {},
   "outputs": [],
   "source": [
    "def getdf(sql_context, config): \n",
    "    '''filter abb dataset'''\n",
    "    toronto_listings = sql_context.read.format('com.databricks.spark.csv').options(header='true').load(config[\"s3\"][\"abb_toronto_listings\"])\n",
    "    toronto_listings_f = toronto_listings['id', 'latitude', 'longitude',\n",
    "                                    'price', 'number_of_reviews']\n",
    "    return toronto_listings_f"
   ]
  },
  {
   "cell_type": "code",
   "execution_count": 15,
   "metadata": {},
   "outputs": [],
   "source": [
    "toronto_listings_f = getdf(sql_context, config)"
   ]
  },
  {
   "cell_type": "code",
   "execution_count": 16,
   "metadata": {},
   "outputs": [
    {
     "name": "stdout",
     "output_type": "stream",
     "text": [
      "-RECORD 0-------------------------------\n",
      " id                | 1419               \n",
      " latitude          | 43.646167661556824 \n",
      " longitude         | -79.42451012783086 \n",
      " price             | 469                \n",
      " number_of_reviews | 7                  \n",
      "-RECORD 1-------------------------------\n",
      " id                | 8077               \n",
      " latitude          | 43.64105126982716  \n",
      " longitude         | -79.37627700577787 \n",
      " price             | 100                \n",
      " number_of_reviews | 170                \n",
      "-RECORD 2-------------------------------\n",
      " id                | 10314              \n",
      " latitude          | 43.670185503701774 \n",
      " longitude         | -79.33584783585275 \n",
      " price             | 69                 \n",
      " number_of_reviews | 77                 \n",
      "-RECORD 3-------------------------------\n",
      " id                | 12604              \n",
      " latitude          | 43.667240686103376 \n",
      " longitude         | -79.41597756109105 \n",
      " price             | 67                 \n",
      " number_of_reviews | 0                  \n",
      "-RECORD 4-------------------------------\n",
      " id                | 23691              \n",
      " latitude          | 43.69601674127723  \n",
      " longitude         | -79.4546827470826  \n",
      " price             | 71                 \n",
      " number_of_reviews | 206                \n",
      "only showing top 5 rows\n",
      "\n"
     ]
    }
   ],
   "source": [
    "toronto_listings_f.show(n=5, vertical = True)"
   ]
  },
  {
   "cell_type": "code",
   "execution_count": 17,
   "metadata": {},
   "outputs": [],
   "source": [
    "def dist(long_x, lat_x, long_y, lat_y):\n",
    "    return acos(\n",
    "        sin(toRadians(lat_x)) * sin(toRadians(lat_y)) + \n",
    "        cos(toRadians(lat_x)) * cos(toRadians(lat_y)) * \n",
    "            cos(toRadians(long_x) - toRadians(long_y))\n",
    "    ) * lit(6371.0)"
   ]
  },
  {
   "cell_type": "code",
   "execution_count": 21,
   "metadata": {},
   "outputs": [],
   "source": [
    "d1 = dist(toronto_mexican.longitude, toronto_mexican.latitude, toronto_listings_f.longitude, toronto_listings_f.latitude)"
   ]
  },
  {
   "cell_type": "code",
   "execution_count": 22,
   "metadata": {},
   "outputs": [
    {
     "data": {
      "text/plain": [
       "pyspark.sql.column.Column"
      ]
     },
     "execution_count": 22,
     "metadata": {},
     "output_type": "execute_result"
    }
   ],
   "source": [
    "type(d1)"
   ]
  },
  {
   "cell_type": "code",
   "execution_count": 23,
   "metadata": {},
   "outputs": [
    {
     "ename": "TypeError",
     "evalue": "'Column' object is not callable",
     "output_type": "error",
     "traceback": [
      "\u001b[0;31m---------------------------------------------------------------------------\u001b[0m",
      "\u001b[0;31mTypeError\u001b[0m                                 Traceback (most recent call last)",
      "\u001b[0;32m<ipython-input-23-f1dde6ac90c2>\u001b[0m in \u001b[0;36m<module>\u001b[0;34m\u001b[0m\n\u001b[0;32m----> 1\u001b[0;31m \u001b[0md1\u001b[0m\u001b[0;34m.\u001b[0m\u001b[0mshow\u001b[0m\u001b[0;34m(\u001b[0m\u001b[0mn\u001b[0m\u001b[0;34m=\u001b[0m\u001b[0;36m5\u001b[0m\u001b[0;34m)\u001b[0m\u001b[0;34m\u001b[0m\u001b[0;34m\u001b[0m\u001b[0m\n\u001b[0m",
      "\u001b[0;31mTypeError\u001b[0m: 'Column' object is not callable"
     ]
    }
   ],
   "source": [
    "d1.show(n=5)"
   ]
  },
  {
   "cell_type": "code",
   "execution_count": null,
   "metadata": {},
   "outputs": [],
   "source": []
  }
 ],
 "metadata": {
  "kernelspec": {
   "display_name": "Python 3",
   "language": "python",
   "name": "python3"
  },
  "language_info": {
   "codemirror_mode": {
    "name": "ipython",
    "version": 3
   },
   "file_extension": ".py",
   "mimetype": "text/x-python",
   "name": "python",
   "nbconvert_exporter": "python",
   "pygments_lexer": "ipython3",
   "version": "3.7.2"
  }
 },
 "nbformat": 4,
 "nbformat_minor": 2
}
